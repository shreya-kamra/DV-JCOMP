{
  "cells": [
    {
      "cell_type": "markdown",
      "metadata": {
        "id": "E3ZvN-1pkOV4"
      },
      "source": [
        "#LOGISTIC REGRESSION"
      ]
    },
    {
      "cell_type": "code",
      "execution_count": null,
      "metadata": {
        "colab": {
          "base_uri": "https://localhost:8080/"
        },
        "id": "6ub96mZnV6pf",
        "outputId": "832a8699-49e7-45ca-feb6-e6ee0ae015e0",
        "scrolled": true
      },
      "outputs": [
        {
          "output_type": "stream",
          "name": "stdout",
          "text": [
            "Accuracy: 0.755\n",
            "Mean Squared Error: 0.245\n",
            "Confusion matrix:\n",
            " [[ 47  31]\n",
            " [ 18 104]]\n"
          ]
        },
        {
          "output_type": "stream",
          "name": "stderr",
          "text": [
            "/usr/local/lib/python3.9/dist-packages/sklearn/linear_model/_logistic.py:458: ConvergenceWarning: lbfgs failed to converge (status=1):\n",
            "STOP: TOTAL NO. of ITERATIONS REACHED LIMIT.\n",
            "\n",
            "Increase the number of iterations (max_iter) or scale the data as shown in:\n",
            "    https://scikit-learn.org/stable/modules/preprocessing.html\n",
            "Please also refer to the documentation for alternative solver options:\n",
            "    https://scikit-learn.org/stable/modules/linear_model.html#logistic-regression\n",
            "  n_iter_i = _check_optimize_result(\n"
          ]
        }
      ],
      "source": [
        "import pandas as pd\n",
        "from sklearn.linear_model import LogisticRegression\n",
        "from sklearn.model_selection import train_test_split\n",
        "from sklearn.metrics import accuracy_score, confusion_matrix\n",
        "from sklearn.metrics import mean_squared_error\n",
        "\n",
        "# Load the dataset\n",
        "df = pd.read_csv(\"goalscorers.csv\")\n",
        "\n",
        "# Preprocess the data\n",
        "df = df[['home_team', 'away_team', 'minute', 'own_goal', 'penalty', 'team']]\n",
        "df['team_goal'] = df['team'].eq(df['home_team']).astype(int)\n",
        "df.drop('team', axis=1, inplace=True)\n",
        "\n",
        "# One-hot encode the categorical variables\n",
        "df = pd.get_dummies(df, columns=['home_team', 'away_team'])\n",
        "\n",
        "# Drop rows with missing values\n",
        "df.dropna(inplace=True)\n",
        "\n",
        "# Split the data into training and testing sets\n",
        "X = df.drop('team_goal', axis=1)\n",
        "y = df['team_goal']\n",
        "X_train, X_test, y_train, y_test = train_test_split(X, y, test_size=0.2, random_state=42)\n",
        "\n",
        "# Fit a logistic regression model\n",
        "model = LogisticRegression()\n",
        "model.fit(X_train, y_train)\n",
        "\n",
        "# Make predictions on the testing set\n",
        "y_pred = model.predict(X_test)\n",
        "\n",
        "# Evaluate the model\n",
        "accuracy = accuracy_score(y_test, y_pred)\n",
        "confusion_mat = confusion_matrix(y_test, y_pred)\n",
        "print(f\"Accuracy: {accuracy}\")\n",
        "mse = mean_squared_error(y_test, y_pred)\n",
        "print(f\"Mean Squared Error: {mse}\")\n",
        "print(\"Confusion matrix:\\n\", confusion_mat)"
      ]
    },
    {
      "cell_type": "markdown",
      "metadata": {
        "id": "jh92Mne0jvZR"
      },
      "source": [
        "In this example code, we first load the dataset using pandas and preprocess the data by selecting the relevant columns ('home_team', 'away_team', 'minute', 'own_goal', 'penalty', 'team') and creating a new column 'team_goal' to represent whether the team that scored the goal was the home team (1) or the away team (0).\n",
        "\n",
        "We then one-hot encode the 'home_team' and 'away_team' columns using the get_dummies function from pandas. We then split the data into training and testing sets using the train_test_split() function.\n",
        "\n",
        "Next, we fit a logistic regression model to the training set using the LogisticRegression() function from scikit-learn. We then make predictions on the testing set using the predict() function and evaluate the performance of the model using the accuracy_score() and confusion_matrix() functions from scikit-learn."
      ]
    },
    {
      "cell_type": "markdown",
      "metadata": {
        "id": "-7B_0NxLsGvL"
      },
      "source": [
        "#SVM"
      ]
    },
    {
      "cell_type": "code",
      "execution_count": null,
      "metadata": {
        "id": "y39UuAT4oOjT",
        "colab": {
          "base_uri": "https://localhost:8080/"
        },
        "outputId": "94e4dc97-2c35-47c4-95fc-5fd884ba4086"
      },
      "outputs": [
        {
          "output_type": "stream",
          "name": "stdout",
          "text": [
            "Accuracy: 0.76\n",
            "Mean Squared Error: 0.24\n",
            "Confusion matrix:\n",
            " [[ 45  33]\n",
            " [ 15 107]]\n"
          ]
        }
      ],
      "source": [
        "import pandas as pd\n",
        "from sklearn.svm import SVC\n",
        "from sklearn.model_selection import train_test_split\n",
        "from sklearn.metrics import accuracy_score, confusion_matrix\n",
        "from sklearn.metrics import mean_squared_error\n",
        "\n",
        "# Load the dataset\n",
        "df = pd.read_csv(\"goalscorers.csv\")\n",
        "\n",
        "# Preprocess the data\n",
        "df = df[['home_team', 'away_team', 'minute', 'own_goal', 'penalty', 'team']]\n",
        "df['team_goal'] = df['team'].eq(df['home_team']).astype(int)\n",
        "df.drop('team', axis=1, inplace=True)\n",
        "\n",
        "# One-hot encode the categorical variables\n",
        "df = pd.get_dummies(df, columns=['home_team', 'away_team'])\n",
        "\n",
        "# Drop rows with missing values\n",
        "df.dropna(inplace=True)\n",
        "\n",
        "# Split the data into training and testing sets\n",
        "X = df.drop('team_goal', axis=1)\n",
        "y = df['team_goal']\n",
        "X_train, X_test, y_train, y_test = train_test_split(X, y, test_size=0.2, random_state=42)\n",
        "\n",
        "# Fit an SVM model\n",
        "model = SVC(kernel='linear', C=1, random_state=42)\n",
        "model.fit(X_train, y_train)\n",
        "\n",
        "# Make predictions on the testing set\n",
        "y_pred = model.predict(X_test)\n",
        "\n",
        "# Evaluate the model\n",
        "accuracy = accuracy_score(y_test, y_pred)\n",
        "confusion_mat = confusion_matrix(y_test, y_pred)\n",
        "print(f\"Accuracy: {accuracy}\")\n",
        "mse = mean_squared_error(y_test, y_pred)\n",
        "print(f\"Mean Squared Error: {mse}\")\n",
        "print(\"Confusion matrix:\\n\", confusion_mat)\n"
      ]
    },
    {
      "cell_type": "markdown",
      "metadata": {
        "id": "srQ7fItQsDB2"
      },
      "source": [
        "For SVM, we first import the SVC class from scikit-learn and instantiate a new object with default hyperparameters. We then fit the model to the training data and make predictions on the testing set. Finally, we evaluate the model's performance using the accuracy_score() and confusion_matrix() functions from scikit-learn."
      ]
    },
    {
      "cell_type": "markdown",
      "metadata": {
        "id": "cHXcsuoDsq2a"
      },
      "source": [
        "#NAIVE BAYES"
      ]
    },
    {
      "cell_type": "code",
      "execution_count": null,
      "metadata": {
        "id": "Dnab-Dugs0IK",
        "colab": {
          "base_uri": "https://localhost:8080/"
        },
        "outputId": "cf189c11-4c1f-42dc-8fa4-04cd1c098f0f"
      },
      "outputs": [
        {
          "output_type": "stream",
          "name": "stdout",
          "text": [
            "Accuracy: 0.61\n",
            "Mean Squared Error: 0.39\n",
            "Confusion matrix:\n",
            " [[72  6]\n",
            " [72 50]]\n"
          ]
        }
      ],
      "source": [
        "import pandas as pd\n",
        "from sklearn.naive_bayes import GaussianNB\n",
        "from sklearn.model_selection import train_test_split\n",
        "from sklearn.metrics import accuracy_score, confusion_matrix\n",
        "from sklearn.metrics import mean_squared_error\n",
        "\n",
        "# Load the dataset\n",
        "df = pd.read_csv(\"goalscorers.csv\")\n",
        "\n",
        "# Preprocess the data\n",
        "df = df[['home_team', 'away_team', 'minute', 'own_goal', 'penalty', 'team']]\n",
        "df['team_goal'] = df['team'].eq(df['home_team']).astype(int)\n",
        "df.drop('team', axis=1, inplace=True)\n",
        "\n",
        "# One-hot encode the categorical variables\n",
        "df = pd.get_dummies(df, columns=['home_team', 'away_team'])\n",
        "\n",
        "# Drop rows with missing values\n",
        "df.dropna(inplace=True)\n",
        "\n",
        "# Split the data into training and testing sets\n",
        "X = df.drop('team_goal', axis=1)\n",
        "y = df['team_goal']\n",
        "X_train, X_test, y_train, y_test = train_test_split(X, y, test_size=0.2, random_state=42)\n",
        "\n",
        "# Fit a Naive Bayes model\n",
        "model = GaussianNB()\n",
        "model.fit(X_train, y_train)\n",
        "\n",
        "# Make predictions on the testing set\n",
        "y_pred = model.predict(X_test)\n",
        "\n",
        "# Evaluate the model\n",
        "accuracy = accuracy_score(y_test, y_pred)\n",
        "confusion_mat = confusion_matrix(y_test, y_pred)\n",
        "mse = mean_squared_error(y_test, y_pred)\n",
        "print(f\"Accuracy: {accuracy}\")\n",
        "print(f\"Mean Squared Error: {mse}\")\n",
        "print(\"Confusion matrix:\\n\", confusion_mat)\n"
      ]
    },
    {
      "cell_type": "markdown",
      "metadata": {
        "id": "12-e6kb8s01a"
      },
      "source": [
        "In this example code, we also load the dataset using pandas and preprocess the data by selecting the relevant columns ('home_team', 'away_team', 'minute', 'own_goal', 'penalty', 'team') and creating a new column 'team_goal' to represent whether the team that scored the goal was the home team (1) or the away team (0).\n",
        "\n",
        "We then one-hot encode the 'home_team' and 'away_team' columns using the get_dummies function from pandas. We then split the data into training and testing sets using the train_test_split() function.\n",
        "\n",
        "Next, we fit a Naive Bayes model to the training set using the GaussianNB() function from scikit-learn. We then make predictions on the testing set using the predict() function and evaluate the performance of the model using the accuracy_score() and confusion_matrix() functions from scikit-learn."
      ]
    },
    {
      "cell_type": "markdown",
      "metadata": {
        "id": "HscndnM-q2N9"
      },
      "source": [
        "#RANDOM FOREST"
      ]
    },
    {
      "cell_type": "code",
      "execution_count": null,
      "metadata": {
        "colab": {
          "base_uri": "https://localhost:8080/"
        },
        "id": "uBgh1LNUrXU0",
        "outputId": "016a3d21-b187-4980-d0ac-99a0209a405c"
      },
      "outputs": [
        {
          "output_type": "stream",
          "name": "stderr",
          "text": [
            "<ipython-input-2-39b85b0146d3>:12: SettingWithCopyWarning: \n",
            "A value is trying to be set on a copy of a slice from a DataFrame.\n",
            "Try using .loc[row_indexer,col_indexer] = value instead\n",
            "\n",
            "See the caveats in the documentation: https://pandas.pydata.org/pandas-docs/stable/user_guide/indexing.html#returning-a-view-versus-a-copy\n",
            "  df['team_goal'] = df['team'].eq(df['home_team']).astype(int)\n",
            "<ipython-input-2-39b85b0146d3>:13: SettingWithCopyWarning: \n",
            "A value is trying to be set on a copy of a slice from a DataFrame\n",
            "\n",
            "See the caveats in the documentation: https://pandas.pydata.org/pandas-docs/stable/user_guide/indexing.html#returning-a-view-versus-a-copy\n",
            "  df.drop('team', axis=1, inplace=True)\n"
          ]
        },
        {
          "output_type": "stream",
          "name": "stdout",
          "text": [
            "Accuracy: 0.6468711656441718\n",
            "Mean Squared Error: 0.3531288343558282\n",
            "Confusion matrix:\n",
            " [[1749 1506]\n",
            " [1372 3523]]\n"
          ]
        }
      ],
      "source": [
        "# Import necessary libraries\n",
        "import pandas as pd\n",
        "from sklearn.ensemble import RandomForestClassifier\n",
        "from sklearn.model_selection import train_test_split\n",
        "from sklearn.metrics import mean_squared_error, accuracy_score, confusion_matrix\n",
        "\n",
        "# Load the dataset\n",
        "df = pd.read_csv(\"goalscorers.csv\")\n",
        "\n",
        "# Preprocess the data\n",
        "df = df[['home_team', 'away_team', 'minute', 'own_goal', 'penalty', 'team']]\n",
        "df['team_goal'] = df['team'].eq(df['home_team']).astype(int)\n",
        "df.drop('team', axis=1, inplace=True)\n",
        "\n",
        "# One-hot encode the categorical variables\n",
        "df = pd.get_dummies(df, columns=['home_team', 'away_team'])\n",
        "\n",
        "# Drop rows with missing values\n",
        "df.dropna(inplace=True)\n",
        "\n",
        "# Split the data into training and testing sets\n",
        "X = df.drop('team_goal', axis=1)\n",
        "y = df['team_goal']\n",
        "X_train, X_test, y_train, y_test = train_test_split(X, y, test_size=0.2, random_state=42)\n",
        "\n",
        "# Train a Random Forest Classifier model\n",
        "rf_model = RandomForestClassifier(n_estimators=100, random_state=42)\n",
        "rf_model.fit(X_train, y_train)\n",
        "\n",
        "# Make predictions on the testing set\n",
        "y_pred = rf_model.predict(X_test)\n",
        "y_pred_binary = (y_pred > 0.5).astype(int)\n",
        "\n",
        "# Convert the actual labels to binary labels\n",
        "y_test_binary = y_test.astype(int)\n",
        "\n",
        "# Calculate accuracy based on binary predictions\n",
        "accuracy = accuracy_score(y_test_binary, y_pred_binary)\n",
        "\n",
        "# Evaluate the model based on mean squared error\n",
        "mse = mean_squared_error(y_test, y_pred)\n",
        "confusion_mat = confusion_matrix(y_test_binary, y_pred_binary)\n",
        "print(f\"Accuracy: {accuracy}\")\n",
        "print(f\"Mean Squared Error: {mse}\")\n",
        "print(\"Confusion matrix:\\n\", confusion_mat)"
      ]
    },
    {
      "cell_type": "markdown",
      "metadata": {
        "id": "H7wf0RMTrXtG"
      },
      "source": [
        "In this example code, we first load the dataset using pandas and preprocess the data by selecting the relevant columns ('home_team', 'away_team', 'minute', 'own_goal', 'penalty', 'team') and creating a new column 'team_goal' to represent whether the team that scored the goal was the home team (1) or the away team (0).\n",
        "\n",
        "We then one-hot encode the 'home_team' and 'away_team' columns using the get_dummies function from pandas. We then split the data into training and testing sets using the train_test_split() function and a Random Forest Regression model is used instead of a Logistic Regression model."
      ]
    },
    {
      "cell_type": "markdown",
      "metadata": {
        "id": "bZRKLjvEsM5c"
      },
      "source": [
        "#XGBOOST"
      ]
    },
    {
      "cell_type": "code",
      "execution_count": null,
      "metadata": {
        "id": "hrCf4Pi4oTKa",
        "scrolled": true,
        "colab": {
          "base_uri": "https://localhost:8080/"
        },
        "outputId": "b06f5cf0-4c73-4bf3-d3c4-37ea97b41dfe"
      },
      "outputs": [
        {
          "output_type": "stream",
          "name": "stdout",
          "text": [
            "Accuracy: 0.68\n",
            "Mean Squared Error: 0.2166228046022539\n",
            "Confusion matrix:\n",
            " [[ 21  57]\n",
            " [  7 115]]\n"
          ]
        }
      ],
      "source": [
        "# Import necessary libraries\n",
        "import pandas as pd\n",
        "import xgboost as xgb\n",
        "from sklearn.model_selection import train_test_split\n",
        "from sklearn.metrics import mean_squared_error, accuracy_score, confusion_matrix\n",
        "\n",
        "# Load the dataset\n",
        "df = pd.read_csv(\"goalscorers.csv\")\n",
        "\n",
        "# Preprocess the data\n",
        "df = df[['home_team', 'away_team', 'minute', 'own_goal', 'penalty', 'team']]\n",
        "df['team_goal'] = df['team'].eq(df['home_team']).astype(int)\n",
        "df.drop('team', axis=1, inplace=True)\n",
        "\n",
        "# One-hot encode the categorical variables\n",
        "df = pd.get_dummies(df, columns=['home_team', 'away_team'])\n",
        "\n",
        "# Drop rows with missing values\n",
        "df.dropna(inplace=True)\n",
        "\n",
        "# Convert object columns to numerical data types\n",
        "X_train['own_goal'] = X_train['own_goal'].astype(int)\n",
        "X_train['penalty'] = X_train['penalty'].astype(int)\n",
        "\n",
        "X_test['own_goal'] = X_test['own_goal'].astype(int)\n",
        "X_test['penalty'] = X_test['penalty'].astype(int)\n",
        "\n",
        "# Train an XGBoost model\n",
        "import xgboost as xgb\n",
        "\n",
        "params = {\n",
        "    'objective': 'binary:logistic',\n",
        "    'max_depth': 3,\n",
        "    'learning_rate': 0.1,\n",
        "    }\n",
        "dtrain = xgb.DMatrix(X_train, label=y_train)\n",
        "dtest = xgb.DMatrix(X_test, label=y_test)\n",
        "model = xgb.train(params, dtrain)\n",
        "\n",
        "# Make predictions on the testing set\n",
        "y_pred = model.predict(dtest)\n",
        "y_pred_binary = (y_pred > 0.5).astype(int)\n",
        "\n",
        "# Convert the actual labels to binary labels\n",
        "y_test_binary = y_test.astype(int)\n",
        "\n",
        "# Calculate accuracy based on binary predictions\n",
        "accuracy = accuracy_score(y_test_binary, y_pred_binary)\n",
        "\n",
        "# Evaluate the model based on mean squared error\n",
        "mse = mean_squared_error(y_test, y_pred)\n",
        "confusion_mat = confusion_matrix(y_test_binary, y_pred_binary)\n",
        "print(f\"Accuracy: {accuracy}\")\n",
        "print(f\"Mean Squared Error: {mse}\")\n",
        "print(\"Confusion matrix:\\n\", confusion_mat)\n",
        "\n"
      ]
    },
    {
      "cell_type": "markdown",
      "metadata": {
        "id": "L15xDHN7sLRa"
      },
      "source": [
        "For XGBoost, we first import the XGBClassifier class from the xgboost library and instantiate a new object with default hyperparameters. We then fit the model to the training data and make predictions on the testing set. Finally, we evaluate the model's performance using the accuracy_score() and confusion_matrix() functions from scikit-learn."
      ]
    }
  ],
  "metadata": {
    "colab": {
      "provenance": []
    },
    "kernelspec": {
      "display_name": "Python 3 (ipykernel)",
      "language": "python",
      "name": "python3"
    },
    "language_info": {
      "codemirror_mode": {
        "name": "ipython",
        "version": 3
      },
      "file_extension": ".py",
      "mimetype": "text/x-python",
      "name": "python",
      "nbconvert_exporter": "python",
      "pygments_lexer": "ipython3",
      "version": "3.9.12"
    }
  },
  "nbformat": 4,
  "nbformat_minor": 0
}